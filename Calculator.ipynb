{
  "nbformat": 4,
  "nbformat_minor": 0,
  "metadata": {
    "colab": {
      "name": "Calculator.ipynb",
      "provenance": []
    },
    "kernelspec": {
      "name": "python3",
      "display_name": "Python 3"
    },
    "language_info": {
      "name": "python"
    }
  },
  "cells": [
    {
      "cell_type": "code",
      "metadata": {
        "id": "YWM-3rIk8I9L"
      },
      "source": [
        "num1=int(input(\"Enter the first no\"))\n",
        "num2=int(input(\"Enter the second no\"))\n",
        "op=input(\"Enter the operator(+, -, *, /, %)\")\n",
        "result=0\n",
        "if op=='+':\n",
        "   result==num1+num2\n",
        "elif op=='-':\n",
        "   result==num1-num2\n",
        "elif op=='*':\n",
        "   result==num1*num2\n",
        "elif op=='/':\n",
        "   result==num1/num2\n",
        "elif op=='%':\n",
        "   result==num1%num2\n",
        "else:\n",
        "   print(\"Invalid operator\")\n",
        "print(num1,op,num2,'=',result)"
      ],
      "execution_count": null,
      "outputs": []
    }
  ]
}